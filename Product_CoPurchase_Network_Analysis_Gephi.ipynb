{
  "nbformat": 4,
  "nbformat_minor": 0,
  "metadata": {
    "colab": {
      "provenance": [],
      "authorship_tag": "ABX9TyPJTuAJ9DdEM7OsMX184RFs",
      "include_colab_link": true
    },
    "kernelspec": {
      "name": "python3",
      "display_name": "Python 3"
    },
    "language_info": {
      "name": "python"
    }
  },
  "cells": [
    {
      "cell_type": "markdown",
      "metadata": {
        "id": "view-in-github",
        "colab_type": "text"
      },
      "source": [
        "<a href=\"https://colab.research.google.com/github/farzadmohseni-ir/business-social-network-analysis/blob/main/Product_CoPurchase_Network_Analysis_Gephi.ipynb\" target=\"_parent\"><img src=\"https://colab.research.google.com/assets/colab-badge.svg\" alt=\"Open In Colab\"/></a>"
      ]
    },
    {
      "cell_type": "markdown",
      "source": [
        "## 🛍️ Product Co-Purchase Network Analysis using Gephi\n",
        "\n",
        "### 📌 Dataset Source\n",
        "\n",
        "This project uses the following e-commerce dataset available on Kaggle:  \n",
        "🔗 [An Online Shop Business – by Gabriel Ramos](https://www.kaggle.com/datasets/gabrielramos87/an-online-shop-business/data)\n",
        "\n",
        "---\n",
        "\n",
        "### ❓ Key Question\n",
        "\n",
        "> **Q2: Which products are commonly purchased together?**\n",
        "\n",
        "---\n",
        "\n",
        "### 📑 Features Description Table\n",
        "\n",
        "| 🔢 Feature Name | 📝 Description                                                                   |\n",
        "|----------------|----------------------------------------------------------------------------------|\n",
        "| `TransactionNo` | Unique identifier for each transaction. Transactions starting with 'C' indicate cancellations. |\n",
        "| `Date`          | Date and time when the transaction was recorded.                                |\n",
        "| `ProductNo`     | Unique identifier for each product (5–6 digit alphanumeric code).               |\n",
        "| `ProductName`   | Name or description of the product.                                              |\n",
        "| `Price`         | Unit price of the product in GBP (£).                                           |\n",
        "| `Quantity`      | Number of units purchased in the transaction. Negative values indicate cancellations. |\n",
        "| `CustomerNo`    | Unique identifier for each customer (5-digit code).                             |\n",
        "| `Country`       | Country of residence of the customer.                                           |\n",
        "\n",
        "---"
      ],
      "metadata": {
        "id": "56G1wAgvHduM"
      }
    },
    {
      "cell_type": "code",
      "source": [
        "# Install gdown\n",
        "!pip install -q gdown\n",
        "\n",
        "# Import required libraries\n",
        "import gdown\n",
        "import pandas as pd\n",
        "\n",
        "# Define file ID and desired output file name\n",
        "file_id = '18V0A2luXu_WUIVFPvs_z0QMnh_WUCYi9'\n",
        "output = 'Sales Transaction v.4a.csv'\n",
        "\n",
        "# Download CSV file from Google Drive\n",
        "gdown.download(f'https://drive.google.com/uc?id={file_id}', output, quiet=False)\n",
        "\n",
        "# Load the dataset using pandas\n",
        "df = pd.read_csv(output)\n",
        "\n",
        "# Display the first few rows\n",
        "df.head(10)"
      ],
      "metadata": {
        "colab": {
          "base_uri": "https://localhost:8080/",
          "height": 436
        },
        "id": "9k_0baokJOD_",
        "outputId": "debcc291-8f41-41d4-bc5c-55be934da06b"
      },
      "execution_count": null,
      "outputs": [
        {
          "output_type": "stream",
          "name": "stderr",
          "text": [
            "Downloading...\n",
            "From: https://drive.google.com/uc?id=18V0A2luXu_WUIVFPvs_z0QMnh_WUCYi9\n",
            "To: /content/Sales Transaction v.4a.csv\n",
            "100%|██████████| 43.0M/43.0M [00:00<00:00, 92.2MB/s]\n"
          ]
        },
        {
          "output_type": "execute_result",
          "data": {
            "text/plain": [
              "  TransactionNo       Date ProductNo                          ProductName  \\\n",
              "0        581482  12/9/2019     22485        Set Of 2 Wooden Market Crates   \n",
              "1        581475  12/9/2019     22596  Christmas Star Wish List Chalkboard   \n",
              "2        581475  12/9/2019     23235             Storage Tin Vintage Leaf   \n",
              "3        581475  12/9/2019     23272    Tree T-Light Holder Willie Winkie   \n",
              "4        581475  12/9/2019     23239    Set Of 4 Knick Knack Tins Poppies   \n",
              "5        581475  12/9/2019     21705              Bag 500g Swirly Marbles   \n",
              "6        581475  12/9/2019     22118             Joy Wooden Block Letters   \n",
              "7        581475  12/9/2019     22119           Peace Wooden Block Letters   \n",
              "8        581475  12/9/2019     22217          T-Light Holder Hanging Lace   \n",
              "9        581475  12/9/2019     22216            T-Light Holder White Lace   \n",
              "\n",
              "   Price  Quantity  CustomerNo         Country  \n",
              "0  21.47        12     17490.0  United Kingdom  \n",
              "1  10.65        36     13069.0  United Kingdom  \n",
              "2  11.53        12     13069.0  United Kingdom  \n",
              "3  10.65        12     13069.0  United Kingdom  \n",
              "4  11.94         6     13069.0  United Kingdom  \n",
              "5  10.65        24     13069.0  United Kingdom  \n",
              "6  11.53        18     13069.0  United Kingdom  \n",
              "7  12.25        12     13069.0  United Kingdom  \n",
              "8  10.65        12     13069.0  United Kingdom  \n",
              "9  10.55        24     13069.0  United Kingdom  "
            ],
            "text/html": [
              "\n",
              "  <div id=\"df-13a17248-ef22-414e-89d3-43dadb57a469\" class=\"colab-df-container\">\n",
              "    <div>\n",
              "<style scoped>\n",
              "    .dataframe tbody tr th:only-of-type {\n",
              "        vertical-align: middle;\n",
              "    }\n",
              "\n",
              "    .dataframe tbody tr th {\n",
              "        vertical-align: top;\n",
              "    }\n",
              "\n",
              "    .dataframe thead th {\n",
              "        text-align: right;\n",
              "    }\n",
              "</style>\n",
              "<table border=\"1\" class=\"dataframe\">\n",
              "  <thead>\n",
              "    <tr style=\"text-align: right;\">\n",
              "      <th></th>\n",
              "      <th>TransactionNo</th>\n",
              "      <th>Date</th>\n",
              "      <th>ProductNo</th>\n",
              "      <th>ProductName</th>\n",
              "      <th>Price</th>\n",
              "      <th>Quantity</th>\n",
              "      <th>CustomerNo</th>\n",
              "      <th>Country</th>\n",
              "    </tr>\n",
              "  </thead>\n",
              "  <tbody>\n",
              "    <tr>\n",
              "      <th>0</th>\n",
              "      <td>581482</td>\n",
              "      <td>12/9/2019</td>\n",
              "      <td>22485</td>\n",
              "      <td>Set Of 2 Wooden Market Crates</td>\n",
              "      <td>21.47</td>\n",
              "      <td>12</td>\n",
              "      <td>17490.0</td>\n",
              "      <td>United Kingdom</td>\n",
              "    </tr>\n",
              "    <tr>\n",
              "      <th>1</th>\n",
              "      <td>581475</td>\n",
              "      <td>12/9/2019</td>\n",
              "      <td>22596</td>\n",
              "      <td>Christmas Star Wish List Chalkboard</td>\n",
              "      <td>10.65</td>\n",
              "      <td>36</td>\n",
              "      <td>13069.0</td>\n",
              "      <td>United Kingdom</td>\n",
              "    </tr>\n",
              "    <tr>\n",
              "      <th>2</th>\n",
              "      <td>581475</td>\n",
              "      <td>12/9/2019</td>\n",
              "      <td>23235</td>\n",
              "      <td>Storage Tin Vintage Leaf</td>\n",
              "      <td>11.53</td>\n",
              "      <td>12</td>\n",
              "      <td>13069.0</td>\n",
              "      <td>United Kingdom</td>\n",
              "    </tr>\n",
              "    <tr>\n",
              "      <th>3</th>\n",
              "      <td>581475</td>\n",
              "      <td>12/9/2019</td>\n",
              "      <td>23272</td>\n",
              "      <td>Tree T-Light Holder Willie Winkie</td>\n",
              "      <td>10.65</td>\n",
              "      <td>12</td>\n",
              "      <td>13069.0</td>\n",
              "      <td>United Kingdom</td>\n",
              "    </tr>\n",
              "    <tr>\n",
              "      <th>4</th>\n",
              "      <td>581475</td>\n",
              "      <td>12/9/2019</td>\n",
              "      <td>23239</td>\n",
              "      <td>Set Of 4 Knick Knack Tins Poppies</td>\n",
              "      <td>11.94</td>\n",
              "      <td>6</td>\n",
              "      <td>13069.0</td>\n",
              "      <td>United Kingdom</td>\n",
              "    </tr>\n",
              "    <tr>\n",
              "      <th>5</th>\n",
              "      <td>581475</td>\n",
              "      <td>12/9/2019</td>\n",
              "      <td>21705</td>\n",
              "      <td>Bag 500g Swirly Marbles</td>\n",
              "      <td>10.65</td>\n",
              "      <td>24</td>\n",
              "      <td>13069.0</td>\n",
              "      <td>United Kingdom</td>\n",
              "    </tr>\n",
              "    <tr>\n",
              "      <th>6</th>\n",
              "      <td>581475</td>\n",
              "      <td>12/9/2019</td>\n",
              "      <td>22118</td>\n",
              "      <td>Joy Wooden Block Letters</td>\n",
              "      <td>11.53</td>\n",
              "      <td>18</td>\n",
              "      <td>13069.0</td>\n",
              "      <td>United Kingdom</td>\n",
              "    </tr>\n",
              "    <tr>\n",
              "      <th>7</th>\n",
              "      <td>581475</td>\n",
              "      <td>12/9/2019</td>\n",
              "      <td>22119</td>\n",
              "      <td>Peace Wooden Block Letters</td>\n",
              "      <td>12.25</td>\n",
              "      <td>12</td>\n",
              "      <td>13069.0</td>\n",
              "      <td>United Kingdom</td>\n",
              "    </tr>\n",
              "    <tr>\n",
              "      <th>8</th>\n",
              "      <td>581475</td>\n",
              "      <td>12/9/2019</td>\n",
              "      <td>22217</td>\n",
              "      <td>T-Light Holder Hanging Lace</td>\n",
              "      <td>10.65</td>\n",
              "      <td>12</td>\n",
              "      <td>13069.0</td>\n",
              "      <td>United Kingdom</td>\n",
              "    </tr>\n",
              "    <tr>\n",
              "      <th>9</th>\n",
              "      <td>581475</td>\n",
              "      <td>12/9/2019</td>\n",
              "      <td>22216</td>\n",
              "      <td>T-Light Holder White Lace</td>\n",
              "      <td>10.55</td>\n",
              "      <td>24</td>\n",
              "      <td>13069.0</td>\n",
              "      <td>United Kingdom</td>\n",
              "    </tr>\n",
              "  </tbody>\n",
              "</table>\n",
              "</div>\n",
              "    <div class=\"colab-df-buttons\">\n",
              "\n",
              "  <div class=\"colab-df-container\">\n",
              "    <button class=\"colab-df-convert\" onclick=\"convertToInteractive('df-13a17248-ef22-414e-89d3-43dadb57a469')\"\n",
              "            title=\"Convert this dataframe to an interactive table.\"\n",
              "            style=\"display:none;\">\n",
              "\n",
              "  <svg xmlns=\"http://www.w3.org/2000/svg\" height=\"24px\" viewBox=\"0 -960 960 960\">\n",
              "    <path d=\"M120-120v-720h720v720H120Zm60-500h600v-160H180v160Zm220 220h160v-160H400v160Zm0 220h160v-160H400v160ZM180-400h160v-160H180v160Zm440 0h160v-160H620v160ZM180-180h160v-160H180v160Zm440 0h160v-160H620v160Z\"/>\n",
              "  </svg>\n",
              "    </button>\n",
              "\n",
              "  <style>\n",
              "    .colab-df-container {\n",
              "      display:flex;\n",
              "      gap: 12px;\n",
              "    }\n",
              "\n",
              "    .colab-df-convert {\n",
              "      background-color: #E8F0FE;\n",
              "      border: none;\n",
              "      border-radius: 50%;\n",
              "      cursor: pointer;\n",
              "      display: none;\n",
              "      fill: #1967D2;\n",
              "      height: 32px;\n",
              "      padding: 0 0 0 0;\n",
              "      width: 32px;\n",
              "    }\n",
              "\n",
              "    .colab-df-convert:hover {\n",
              "      background-color: #E2EBFA;\n",
              "      box-shadow: 0px 1px 2px rgba(60, 64, 67, 0.3), 0px 1px 3px 1px rgba(60, 64, 67, 0.15);\n",
              "      fill: #174EA6;\n",
              "    }\n",
              "\n",
              "    .colab-df-buttons div {\n",
              "      margin-bottom: 4px;\n",
              "    }\n",
              "\n",
              "    [theme=dark] .colab-df-convert {\n",
              "      background-color: #3B4455;\n",
              "      fill: #D2E3FC;\n",
              "    }\n",
              "\n",
              "    [theme=dark] .colab-df-convert:hover {\n",
              "      background-color: #434B5C;\n",
              "      box-shadow: 0px 1px 3px 1px rgba(0, 0, 0, 0.15);\n",
              "      filter: drop-shadow(0px 1px 2px rgba(0, 0, 0, 0.3));\n",
              "      fill: #FFFFFF;\n",
              "    }\n",
              "  </style>\n",
              "\n",
              "    <script>\n",
              "      const buttonEl =\n",
              "        document.querySelector('#df-13a17248-ef22-414e-89d3-43dadb57a469 button.colab-df-convert');\n",
              "      buttonEl.style.display =\n",
              "        google.colab.kernel.accessAllowed ? 'block' : 'none';\n",
              "\n",
              "      async function convertToInteractive(key) {\n",
              "        const element = document.querySelector('#df-13a17248-ef22-414e-89d3-43dadb57a469');\n",
              "        const dataTable =\n",
              "          await google.colab.kernel.invokeFunction('convertToInteractive',\n",
              "                                                    [key], {});\n",
              "        if (!dataTable) return;\n",
              "\n",
              "        const docLinkHtml = 'Like what you see? Visit the ' +\n",
              "          '<a target=\"_blank\" href=https://colab.research.google.com/notebooks/data_table.ipynb>data table notebook</a>'\n",
              "          + ' to learn more about interactive tables.';\n",
              "        element.innerHTML = '';\n",
              "        dataTable['output_type'] = 'display_data';\n",
              "        await google.colab.output.renderOutput(dataTable, element);\n",
              "        const docLink = document.createElement('div');\n",
              "        docLink.innerHTML = docLinkHtml;\n",
              "        element.appendChild(docLink);\n",
              "      }\n",
              "    </script>\n",
              "  </div>\n",
              "\n",
              "\n",
              "    <div id=\"df-c7ad8d4e-206c-4d75-a421-2e30a474cab7\">\n",
              "      <button class=\"colab-df-quickchart\" onclick=\"quickchart('df-c7ad8d4e-206c-4d75-a421-2e30a474cab7')\"\n",
              "                title=\"Suggest charts\"\n",
              "                style=\"display:none;\">\n",
              "\n",
              "<svg xmlns=\"http://www.w3.org/2000/svg\" height=\"24px\"viewBox=\"0 0 24 24\"\n",
              "     width=\"24px\">\n",
              "    <g>\n",
              "        <path d=\"M19 3H5c-1.1 0-2 .9-2 2v14c0 1.1.9 2 2 2h14c1.1 0 2-.9 2-2V5c0-1.1-.9-2-2-2zM9 17H7v-7h2v7zm4 0h-2V7h2v10zm4 0h-2v-4h2v4z\"/>\n",
              "    </g>\n",
              "</svg>\n",
              "      </button>\n",
              "\n",
              "<style>\n",
              "  .colab-df-quickchart {\n",
              "      --bg-color: #E8F0FE;\n",
              "      --fill-color: #1967D2;\n",
              "      --hover-bg-color: #E2EBFA;\n",
              "      --hover-fill-color: #174EA6;\n",
              "      --disabled-fill-color: #AAA;\n",
              "      --disabled-bg-color: #DDD;\n",
              "  }\n",
              "\n",
              "  [theme=dark] .colab-df-quickchart {\n",
              "      --bg-color: #3B4455;\n",
              "      --fill-color: #D2E3FC;\n",
              "      --hover-bg-color: #434B5C;\n",
              "      --hover-fill-color: #FFFFFF;\n",
              "      --disabled-bg-color: #3B4455;\n",
              "      --disabled-fill-color: #666;\n",
              "  }\n",
              "\n",
              "  .colab-df-quickchart {\n",
              "    background-color: var(--bg-color);\n",
              "    border: none;\n",
              "    border-radius: 50%;\n",
              "    cursor: pointer;\n",
              "    display: none;\n",
              "    fill: var(--fill-color);\n",
              "    height: 32px;\n",
              "    padding: 0;\n",
              "    width: 32px;\n",
              "  }\n",
              "\n",
              "  .colab-df-quickchart:hover {\n",
              "    background-color: var(--hover-bg-color);\n",
              "    box-shadow: 0 1px 2px rgba(60, 64, 67, 0.3), 0 1px 3px 1px rgba(60, 64, 67, 0.15);\n",
              "    fill: var(--button-hover-fill-color);\n",
              "  }\n",
              "\n",
              "  .colab-df-quickchart-complete:disabled,\n",
              "  .colab-df-quickchart-complete:disabled:hover {\n",
              "    background-color: var(--disabled-bg-color);\n",
              "    fill: var(--disabled-fill-color);\n",
              "    box-shadow: none;\n",
              "  }\n",
              "\n",
              "  .colab-df-spinner {\n",
              "    border: 2px solid var(--fill-color);\n",
              "    border-color: transparent;\n",
              "    border-bottom-color: var(--fill-color);\n",
              "    animation:\n",
              "      spin 1s steps(1) infinite;\n",
              "  }\n",
              "\n",
              "  @keyframes spin {\n",
              "    0% {\n",
              "      border-color: transparent;\n",
              "      border-bottom-color: var(--fill-color);\n",
              "      border-left-color: var(--fill-color);\n",
              "    }\n",
              "    20% {\n",
              "      border-color: transparent;\n",
              "      border-left-color: var(--fill-color);\n",
              "      border-top-color: var(--fill-color);\n",
              "    }\n",
              "    30% {\n",
              "      border-color: transparent;\n",
              "      border-left-color: var(--fill-color);\n",
              "      border-top-color: var(--fill-color);\n",
              "      border-right-color: var(--fill-color);\n",
              "    }\n",
              "    40% {\n",
              "      border-color: transparent;\n",
              "      border-right-color: var(--fill-color);\n",
              "      border-top-color: var(--fill-color);\n",
              "    }\n",
              "    60% {\n",
              "      border-color: transparent;\n",
              "      border-right-color: var(--fill-color);\n",
              "    }\n",
              "    80% {\n",
              "      border-color: transparent;\n",
              "      border-right-color: var(--fill-color);\n",
              "      border-bottom-color: var(--fill-color);\n",
              "    }\n",
              "    90% {\n",
              "      border-color: transparent;\n",
              "      border-bottom-color: var(--fill-color);\n",
              "    }\n",
              "  }\n",
              "</style>\n",
              "\n",
              "      <script>\n",
              "        async function quickchart(key) {\n",
              "          const quickchartButtonEl =\n",
              "            document.querySelector('#' + key + ' button');\n",
              "          quickchartButtonEl.disabled = true;  // To prevent multiple clicks.\n",
              "          quickchartButtonEl.classList.add('colab-df-spinner');\n",
              "          try {\n",
              "            const charts = await google.colab.kernel.invokeFunction(\n",
              "                'suggestCharts', [key], {});\n",
              "          } catch (error) {\n",
              "            console.error('Error during call to suggestCharts:', error);\n",
              "          }\n",
              "          quickchartButtonEl.classList.remove('colab-df-spinner');\n",
              "          quickchartButtonEl.classList.add('colab-df-quickchart-complete');\n",
              "        }\n",
              "        (() => {\n",
              "          let quickchartButtonEl =\n",
              "            document.querySelector('#df-c7ad8d4e-206c-4d75-a421-2e30a474cab7 button');\n",
              "          quickchartButtonEl.style.display =\n",
              "            google.colab.kernel.accessAllowed ? 'block' : 'none';\n",
              "        })();\n",
              "      </script>\n",
              "    </div>\n",
              "    </div>\n",
              "  </div>\n"
            ],
            "application/vnd.google.colaboratory.intrinsic+json": {
              "type": "dataframe",
              "variable_name": "df"
            }
          },
          "metadata": {},
          "execution_count": 44
        }
      ]
    },
    {
      "cell_type": "code",
      "source": [
        "# Display the list of all column names\n",
        "print(\"List of all column names in the dataset:\\n\")\n",
        "print(df.columns.tolist())"
      ],
      "metadata": {
        "colab": {
          "base_uri": "https://localhost:8080/"
        },
        "id": "8ippI3ERKZ0e",
        "outputId": "ac0c0d99-f741-46e6-9946-926611255f75"
      },
      "execution_count": null,
      "outputs": [
        {
          "output_type": "stream",
          "name": "stdout",
          "text": [
            "List of all column names in the dataset:\n",
            "\n",
            "['TransactionNo', 'Date', 'ProductNo', 'ProductName', 'Price', 'Quantity', 'CustomerNo', 'Country']\n"
          ]
        }
      ]
    },
    {
      "cell_type": "code",
      "source": [
        "# Retrieve the number of rows (samples) and columns (features) in the dataset\n",
        "rows, cols = df.shape\n",
        "\n",
        "# Print dataset shape information in a structured format\n",
        "print(f\"Total number of samples (rows): {rows}\\n\")\n",
        "print(f\"Total number of features (columns): {cols}\")"
      ],
      "metadata": {
        "colab": {
          "base_uri": "https://localhost:8080/"
        },
        "id": "tLcHhE5rKeJH",
        "outputId": "72520caf-5fe4-4bc6-b049-c1254dda3df6"
      },
      "execution_count": null,
      "outputs": [
        {
          "output_type": "stream",
          "name": "stdout",
          "text": [
            "Total number of samples (rows): 536350\n",
            "\n",
            "Total number of features (columns): 8\n"
          ]
        }
      ]
    },
    {
      "cell_type": "code",
      "source": [
        "# Get a concise summary of the DataFrame\n",
        "\n",
        "print(\"Summary of the dataset:\\n\")\n",
        "df.info()"
      ],
      "metadata": {
        "colab": {
          "base_uri": "https://localhost:8080/"
        },
        "id": "Pa6Q76YS7tDd",
        "outputId": "009dfab6-b051-4bfe-963b-3138d81f4160"
      },
      "execution_count": null,
      "outputs": [
        {
          "output_type": "stream",
          "name": "stdout",
          "text": [
            "Summary of the dataset:\n",
            "\n",
            "<class 'pandas.core.frame.DataFrame'>\n",
            "RangeIndex: 536350 entries, 0 to 536349\n",
            "Data columns (total 8 columns):\n",
            " #   Column         Non-Null Count   Dtype  \n",
            "---  ------         --------------   -----  \n",
            " 0   TransactionNo  536350 non-null  object \n",
            " 1   Date           536350 non-null  object \n",
            " 2   ProductNo      536350 non-null  object \n",
            " 3   ProductName    536350 non-null  object \n",
            " 4   Price          536350 non-null  float64\n",
            " 5   Quantity       536350 non-null  int64  \n",
            " 6   CustomerNo     536295 non-null  float64\n",
            " 7   Country        536350 non-null  object \n",
            "dtypes: float64(2), int64(1), object(5)\n",
            "memory usage: 32.7+ MB\n"
          ]
        }
      ]
    },
    {
      "cell_type": "code",
      "source": [
        "# Check for duplicate rows in the dataset\n",
        "duplicate_rows = df.duplicated(keep='first')\n",
        "\n",
        "# Count how many duplicate rows exist\n",
        "num_duplicates = duplicate_rows.sum()\n",
        "\n",
        "# Print the result\n",
        "print(f\"Number of duplicate rows in the dataset: {num_duplicates}\")"
      ],
      "metadata": {
        "colab": {
          "base_uri": "https://localhost:8080/"
        },
        "id": "25GVvxWWKrIH",
        "outputId": "76e2f25c-04c3-4da4-ed59-44f272db4e18"
      },
      "execution_count": null,
      "outputs": [
        {
          "output_type": "stream",
          "name": "stdout",
          "text": [
            "Number of duplicate rows in the dataset: 5200\n"
          ]
        }
      ]
    },
    {
      "cell_type": "code",
      "source": [
        "# Remove Fully Duplicated Rows from the Dataset\n",
        "# Drop all fully duplicated rows and keep only the first occurrence\n",
        "df = df.drop_duplicates()\n",
        "\n",
        "# Confirm the new shape after removal\n",
        "print(f\"New dataset shape after removing duplicates: {df.shape}\")"
      ],
      "metadata": {
        "colab": {
          "base_uri": "https://localhost:8080/"
        },
        "id": "FDI2VXZ7MMuC",
        "outputId": "bcdd71b8-5862-4b3d-987d-48e843cc275a"
      },
      "execution_count": null,
      "outputs": [
        {
          "output_type": "stream",
          "name": "stdout",
          "text": [
            "New dataset shape after removing duplicates: (531150, 8)\n"
          ]
        }
      ]
    },
    {
      "cell_type": "code",
      "source": [
        "# Check for all types of missing values: NaN, empty string, and '?'\n",
        "\n",
        "# Count standard missing values (NaN)\n",
        "nan_count = df.isnull().sum()\n",
        "\n",
        "# Count empty string values\n",
        "empty_str_count = (df == '').sum()\n",
        "\n",
        "# Count cells with question mark '?'\n",
        "question_mark_count = (df == '?').sum()\n",
        "\n",
        "# Combine all into a single DataFrame\n",
        "missing_summary = pd.DataFrame({\n",
        "    'NaN Count': nan_count,\n",
        "    'Empty String Count': empty_str_count,\n",
        "    \"'?' Count\": question_mark_count\n",
        "})\n",
        "\n",
        "# Total suspicious values per column\n",
        "missing_summary['Total Suspect Values'] = missing_summary.sum(axis=1)\n",
        "\n",
        "# Display the result\n",
        "print(\" Missing or suspicious values summary:\\n\")\n",
        "display(missing_summary)\n",
        "\n",
        "# Total in the entire dataset\n",
        "print(\"\\n Total suspicious cells in entire dataset:\", missing_summary['Total Suspect Values'].sum())"
      ],
      "metadata": {
        "colab": {
          "base_uri": "https://localhost:8080/",
          "height": 373
        },
        "id": "tQu5lP1uKyGX",
        "outputId": "de1e0fae-700e-4064-fb7a-6e1943e0ae81"
      },
      "execution_count": null,
      "outputs": [
        {
          "output_type": "stream",
          "name": "stdout",
          "text": [
            " Missing or suspicious values summary:\n",
            "\n"
          ]
        },
        {
          "output_type": "display_data",
          "data": {
            "text/plain": [
              "               NaN Count  Empty String Count  '?' Count  Total Suspect Values\n",
              "TransactionNo          0                   0          0                     0\n",
              "Date                   0                   0          0                     0\n",
              "ProductNo              0                   0          0                     0\n",
              "ProductName            0                   0          0                     0\n",
              "Price                  0                   0          0                     0\n",
              "Quantity               0                   0          0                     0\n",
              "CustomerNo            55                   0          0                    55\n",
              "Country                0                   0          0                     0"
            ],
            "text/html": [
              "\n",
              "  <div id=\"df-635b634c-a160-417a-96e7-53c98a3607ca\" class=\"colab-df-container\">\n",
              "    <div>\n",
              "<style scoped>\n",
              "    .dataframe tbody tr th:only-of-type {\n",
              "        vertical-align: middle;\n",
              "    }\n",
              "\n",
              "    .dataframe tbody tr th {\n",
              "        vertical-align: top;\n",
              "    }\n",
              "\n",
              "    .dataframe thead th {\n",
              "        text-align: right;\n",
              "    }\n",
              "</style>\n",
              "<table border=\"1\" class=\"dataframe\">\n",
              "  <thead>\n",
              "    <tr style=\"text-align: right;\">\n",
              "      <th></th>\n",
              "      <th>NaN Count</th>\n",
              "      <th>Empty String Count</th>\n",
              "      <th>'?' Count</th>\n",
              "      <th>Total Suspect Values</th>\n",
              "    </tr>\n",
              "  </thead>\n",
              "  <tbody>\n",
              "    <tr>\n",
              "      <th>TransactionNo</th>\n",
              "      <td>0</td>\n",
              "      <td>0</td>\n",
              "      <td>0</td>\n",
              "      <td>0</td>\n",
              "    </tr>\n",
              "    <tr>\n",
              "      <th>Date</th>\n",
              "      <td>0</td>\n",
              "      <td>0</td>\n",
              "      <td>0</td>\n",
              "      <td>0</td>\n",
              "    </tr>\n",
              "    <tr>\n",
              "      <th>ProductNo</th>\n",
              "      <td>0</td>\n",
              "      <td>0</td>\n",
              "      <td>0</td>\n",
              "      <td>0</td>\n",
              "    </tr>\n",
              "    <tr>\n",
              "      <th>ProductName</th>\n",
              "      <td>0</td>\n",
              "      <td>0</td>\n",
              "      <td>0</td>\n",
              "      <td>0</td>\n",
              "    </tr>\n",
              "    <tr>\n",
              "      <th>Price</th>\n",
              "      <td>0</td>\n",
              "      <td>0</td>\n",
              "      <td>0</td>\n",
              "      <td>0</td>\n",
              "    </tr>\n",
              "    <tr>\n",
              "      <th>Quantity</th>\n",
              "      <td>0</td>\n",
              "      <td>0</td>\n",
              "      <td>0</td>\n",
              "      <td>0</td>\n",
              "    </tr>\n",
              "    <tr>\n",
              "      <th>CustomerNo</th>\n",
              "      <td>55</td>\n",
              "      <td>0</td>\n",
              "      <td>0</td>\n",
              "      <td>55</td>\n",
              "    </tr>\n",
              "    <tr>\n",
              "      <th>Country</th>\n",
              "      <td>0</td>\n",
              "      <td>0</td>\n",
              "      <td>0</td>\n",
              "      <td>0</td>\n",
              "    </tr>\n",
              "  </tbody>\n",
              "</table>\n",
              "</div>\n",
              "    <div class=\"colab-df-buttons\">\n",
              "\n",
              "  <div class=\"colab-df-container\">\n",
              "    <button class=\"colab-df-convert\" onclick=\"convertToInteractive('df-635b634c-a160-417a-96e7-53c98a3607ca')\"\n",
              "            title=\"Convert this dataframe to an interactive table.\"\n",
              "            style=\"display:none;\">\n",
              "\n",
              "  <svg xmlns=\"http://www.w3.org/2000/svg\" height=\"24px\" viewBox=\"0 -960 960 960\">\n",
              "    <path d=\"M120-120v-720h720v720H120Zm60-500h600v-160H180v160Zm220 220h160v-160H400v160Zm0 220h160v-160H400v160ZM180-400h160v-160H180v160Zm440 0h160v-160H620v160ZM180-180h160v-160H180v160Zm440 0h160v-160H620v160Z\"/>\n",
              "  </svg>\n",
              "    </button>\n",
              "\n",
              "  <style>\n",
              "    .colab-df-container {\n",
              "      display:flex;\n",
              "      gap: 12px;\n",
              "    }\n",
              "\n",
              "    .colab-df-convert {\n",
              "      background-color: #E8F0FE;\n",
              "      border: none;\n",
              "      border-radius: 50%;\n",
              "      cursor: pointer;\n",
              "      display: none;\n",
              "      fill: #1967D2;\n",
              "      height: 32px;\n",
              "      padding: 0 0 0 0;\n",
              "      width: 32px;\n",
              "    }\n",
              "\n",
              "    .colab-df-convert:hover {\n",
              "      background-color: #E2EBFA;\n",
              "      box-shadow: 0px 1px 2px rgba(60, 64, 67, 0.3), 0px 1px 3px 1px rgba(60, 64, 67, 0.15);\n",
              "      fill: #174EA6;\n",
              "    }\n",
              "\n",
              "    .colab-df-buttons div {\n",
              "      margin-bottom: 4px;\n",
              "    }\n",
              "\n",
              "    [theme=dark] .colab-df-convert {\n",
              "      background-color: #3B4455;\n",
              "      fill: #D2E3FC;\n",
              "    }\n",
              "\n",
              "    [theme=dark] .colab-df-convert:hover {\n",
              "      background-color: #434B5C;\n",
              "      box-shadow: 0px 1px 3px 1px rgba(0, 0, 0, 0.15);\n",
              "      filter: drop-shadow(0px 1px 2px rgba(0, 0, 0, 0.3));\n",
              "      fill: #FFFFFF;\n",
              "    }\n",
              "  </style>\n",
              "\n",
              "    <script>\n",
              "      const buttonEl =\n",
              "        document.querySelector('#df-635b634c-a160-417a-96e7-53c98a3607ca button.colab-df-convert');\n",
              "      buttonEl.style.display =\n",
              "        google.colab.kernel.accessAllowed ? 'block' : 'none';\n",
              "\n",
              "      async function convertToInteractive(key) {\n",
              "        const element = document.querySelector('#df-635b634c-a160-417a-96e7-53c98a3607ca');\n",
              "        const dataTable =\n",
              "          await google.colab.kernel.invokeFunction('convertToInteractive',\n",
              "                                                    [key], {});\n",
              "        if (!dataTable) return;\n",
              "\n",
              "        const docLinkHtml = 'Like what you see? Visit the ' +\n",
              "          '<a target=\"_blank\" href=https://colab.research.google.com/notebooks/data_table.ipynb>data table notebook</a>'\n",
              "          + ' to learn more about interactive tables.';\n",
              "        element.innerHTML = '';\n",
              "        dataTable['output_type'] = 'display_data';\n",
              "        await google.colab.output.renderOutput(dataTable, element);\n",
              "        const docLink = document.createElement('div');\n",
              "        docLink.innerHTML = docLinkHtml;\n",
              "        element.appendChild(docLink);\n",
              "      }\n",
              "    </script>\n",
              "  </div>\n",
              "\n",
              "\n",
              "    <div id=\"df-81d11b38-8725-4588-a77a-d8c0c7183dab\">\n",
              "      <button class=\"colab-df-quickchart\" onclick=\"quickchart('df-81d11b38-8725-4588-a77a-d8c0c7183dab')\"\n",
              "                title=\"Suggest charts\"\n",
              "                style=\"display:none;\">\n",
              "\n",
              "<svg xmlns=\"http://www.w3.org/2000/svg\" height=\"24px\"viewBox=\"0 0 24 24\"\n",
              "     width=\"24px\">\n",
              "    <g>\n",
              "        <path d=\"M19 3H5c-1.1 0-2 .9-2 2v14c0 1.1.9 2 2 2h14c1.1 0 2-.9 2-2V5c0-1.1-.9-2-2-2zM9 17H7v-7h2v7zm4 0h-2V7h2v10zm4 0h-2v-4h2v4z\"/>\n",
              "    </g>\n",
              "</svg>\n",
              "      </button>\n",
              "\n",
              "<style>\n",
              "  .colab-df-quickchart {\n",
              "      --bg-color: #E8F0FE;\n",
              "      --fill-color: #1967D2;\n",
              "      --hover-bg-color: #E2EBFA;\n",
              "      --hover-fill-color: #174EA6;\n",
              "      --disabled-fill-color: #AAA;\n",
              "      --disabled-bg-color: #DDD;\n",
              "  }\n",
              "\n",
              "  [theme=dark] .colab-df-quickchart {\n",
              "      --bg-color: #3B4455;\n",
              "      --fill-color: #D2E3FC;\n",
              "      --hover-bg-color: #434B5C;\n",
              "      --hover-fill-color: #FFFFFF;\n",
              "      --disabled-bg-color: #3B4455;\n",
              "      --disabled-fill-color: #666;\n",
              "  }\n",
              "\n",
              "  .colab-df-quickchart {\n",
              "    background-color: var(--bg-color);\n",
              "    border: none;\n",
              "    border-radius: 50%;\n",
              "    cursor: pointer;\n",
              "    display: none;\n",
              "    fill: var(--fill-color);\n",
              "    height: 32px;\n",
              "    padding: 0;\n",
              "    width: 32px;\n",
              "  }\n",
              "\n",
              "  .colab-df-quickchart:hover {\n",
              "    background-color: var(--hover-bg-color);\n",
              "    box-shadow: 0 1px 2px rgba(60, 64, 67, 0.3), 0 1px 3px 1px rgba(60, 64, 67, 0.15);\n",
              "    fill: var(--button-hover-fill-color);\n",
              "  }\n",
              "\n",
              "  .colab-df-quickchart-complete:disabled,\n",
              "  .colab-df-quickchart-complete:disabled:hover {\n",
              "    background-color: var(--disabled-bg-color);\n",
              "    fill: var(--disabled-fill-color);\n",
              "    box-shadow: none;\n",
              "  }\n",
              "\n",
              "  .colab-df-spinner {\n",
              "    border: 2px solid var(--fill-color);\n",
              "    border-color: transparent;\n",
              "    border-bottom-color: var(--fill-color);\n",
              "    animation:\n",
              "      spin 1s steps(1) infinite;\n",
              "  }\n",
              "\n",
              "  @keyframes spin {\n",
              "    0% {\n",
              "      border-color: transparent;\n",
              "      border-bottom-color: var(--fill-color);\n",
              "      border-left-color: var(--fill-color);\n",
              "    }\n",
              "    20% {\n",
              "      border-color: transparent;\n",
              "      border-left-color: var(--fill-color);\n",
              "      border-top-color: var(--fill-color);\n",
              "    }\n",
              "    30% {\n",
              "      border-color: transparent;\n",
              "      border-left-color: var(--fill-color);\n",
              "      border-top-color: var(--fill-color);\n",
              "      border-right-color: var(--fill-color);\n",
              "    }\n",
              "    40% {\n",
              "      border-color: transparent;\n",
              "      border-right-color: var(--fill-color);\n",
              "      border-top-color: var(--fill-color);\n",
              "    }\n",
              "    60% {\n",
              "      border-color: transparent;\n",
              "      border-right-color: var(--fill-color);\n",
              "    }\n",
              "    80% {\n",
              "      border-color: transparent;\n",
              "      border-right-color: var(--fill-color);\n",
              "      border-bottom-color: var(--fill-color);\n",
              "    }\n",
              "    90% {\n",
              "      border-color: transparent;\n",
              "      border-bottom-color: var(--fill-color);\n",
              "    }\n",
              "  }\n",
              "</style>\n",
              "\n",
              "      <script>\n",
              "        async function quickchart(key) {\n",
              "          const quickchartButtonEl =\n",
              "            document.querySelector('#' + key + ' button');\n",
              "          quickchartButtonEl.disabled = true;  // To prevent multiple clicks.\n",
              "          quickchartButtonEl.classList.add('colab-df-spinner');\n",
              "          try {\n",
              "            const charts = await google.colab.kernel.invokeFunction(\n",
              "                'suggestCharts', [key], {});\n",
              "          } catch (error) {\n",
              "            console.error('Error during call to suggestCharts:', error);\n",
              "          }\n",
              "          quickchartButtonEl.classList.remove('colab-df-spinner');\n",
              "          quickchartButtonEl.classList.add('colab-df-quickchart-complete');\n",
              "        }\n",
              "        (() => {\n",
              "          let quickchartButtonEl =\n",
              "            document.querySelector('#df-81d11b38-8725-4588-a77a-d8c0c7183dab button');\n",
              "          quickchartButtonEl.style.display =\n",
              "            google.colab.kernel.accessAllowed ? 'block' : 'none';\n",
              "        })();\n",
              "      </script>\n",
              "    </div>\n",
              "    </div>\n",
              "  </div>\n"
            ],
            "application/vnd.google.colaboratory.intrinsic+json": {
              "type": "dataframe",
              "variable_name": "missing_summary",
              "summary": "{\n  \"name\": \"missing_summary\",\n  \"rows\": 8,\n  \"fields\": [\n    {\n      \"column\": \"NaN Count\",\n      \"properties\": {\n        \"dtype\": \"number\",\n        \"std\": 19,\n        \"min\": 0,\n        \"max\": 55,\n        \"num_unique_values\": 2,\n        \"samples\": [\n          55,\n          0\n        ],\n        \"semantic_type\": \"\",\n        \"description\": \"\"\n      }\n    },\n    {\n      \"column\": \"Empty String Count\",\n      \"properties\": {\n        \"dtype\": \"number\",\n        \"std\": 0,\n        \"min\": 0,\n        \"max\": 0,\n        \"num_unique_values\": 1,\n        \"samples\": [\n          0\n        ],\n        \"semantic_type\": \"\",\n        \"description\": \"\"\n      }\n    },\n    {\n      \"column\": \"'?' Count\",\n      \"properties\": {\n        \"dtype\": \"number\",\n        \"std\": 0,\n        \"min\": 0,\n        \"max\": 0,\n        \"num_unique_values\": 1,\n        \"samples\": [\n          0\n        ],\n        \"semantic_type\": \"\",\n        \"description\": \"\"\n      }\n    },\n    {\n      \"column\": \"Total Suspect Values\",\n      \"properties\": {\n        \"dtype\": \"number\",\n        \"std\": 19,\n        \"min\": 0,\n        \"max\": 55,\n        \"num_unique_values\": 2,\n        \"samples\": [\n          55\n        ],\n        \"semantic_type\": \"\",\n        \"description\": \"\"\n      }\n    }\n  ]\n}"
            }
          },
          "metadata": {}
        },
        {
          "output_type": "stream",
          "name": "stdout",
          "text": [
            "\n",
            " Total suspicious cells in entire dataset: 55\n"
          ]
        }
      ]
    },
    {
      "cell_type": "code",
      "source": [
        "# Remove rows with missing CustomerNo\n",
        "\n",
        "initial_len = len(df)\n",
        "df = df.dropna(subset=['CustomerNo'])\n",
        "print(f\"Rows with missing CustomerNo removed: {initial_len - len(df)}\")\n",
        "print(f\"Remaining records: {len(df)}\")"
      ],
      "metadata": {
        "colab": {
          "base_uri": "https://localhost:8080/"
        },
        "id": "xstxPxByJ7rG",
        "outputId": "725f4ef9-ca94-4b28-b5c0-41ac2335f723"
      },
      "execution_count": null,
      "outputs": [
        {
          "output_type": "stream",
          "name": "stdout",
          "text": [
            "Rows with missing CustomerNo removed: 55\n",
            "Remaining records: 531095\n"
          ]
        }
      ]
    },
    {
      "cell_type": "code",
      "source": [
        "# Count how many transactions were cancelled (start with 'C')\n",
        "# First make sure TransactionNo is string type\n",
        "cancelled_count = df['TransactionNo'].astype(str).str.startswith('C').sum()\n",
        "\n",
        "# Count how many transactions are returns or invalid (Quantity <= 0)\n",
        "returned_count = (df['Quantity'] <= 0).sum()\n",
        "\n",
        "# Display results\n",
        "print(f\"Cancelled transactions (TransactionNo starts with 'C'): {cancelled_count}\")\n",
        "print(f\"Returned or invalid transactions (Quantity <= 0): {returned_count}\")"
      ],
      "metadata": {
        "colab": {
          "base_uri": "https://localhost:8080/"
        },
        "id": "sywrNkxw8XS4",
        "outputId": "d65c1ea9-2f84-4b1c-b441-f092f2bb56a1"
      },
      "execution_count": null,
      "outputs": [
        {
          "output_type": "stream",
          "name": "stdout",
          "text": [
            "Cancelled transactions (TransactionNo starts with 'C'): 8494\n",
            "Returned or invalid transactions (Quantity <= 0): 8494\n"
          ]
        }
      ]
    },
    {
      "cell_type": "code",
      "source": [
        "# Remove cancelled transactions (TransactionNo starts with 'C')\n",
        "\n",
        "initial_len = len(df)\n",
        "df = df[~df['TransactionNo'].astype(str).str.startswith('C')]\n",
        "print(f\"Cancelled transactions removed: {initial_len - len(df)}\")\n",
        "print(f\"Remaining records : {len(df)}\")"
      ],
      "metadata": {
        "colab": {
          "base_uri": "https://localhost:8080/"
        },
        "id": "uKBfioVMJ76i",
        "outputId": "da2df19a-87bb-47ad-89e3-57ab91a8e880"
      },
      "execution_count": null,
      "outputs": [
        {
          "output_type": "stream",
          "name": "stdout",
          "text": [
            "Cancelled transactions removed: 8494\n",
            "Remaining records : 522601\n"
          ]
        }
      ]
    },
    {
      "cell_type": "code",
      "source": [
        "# Remove returned or invalid transactions (Quantity <= 0)\n",
        "initial_len = len(df)\n",
        "df = df[df['Quantity'] > 0]\n",
        "print(f\"Returned/invalid transactions removed: {initial_len - len(df)}\")\n",
        "print(f\"Remaining records : {len(df)}\")"
      ],
      "metadata": {
        "colab": {
          "base_uri": "https://localhost:8080/"
        },
        "id": "oLdQBn3rJ7z9",
        "outputId": "94edb979-4645-4a65-af6c-46f161075787"
      },
      "execution_count": null,
      "outputs": [
        {
          "output_type": "stream",
          "name": "stdout",
          "text": [
            "Returned/invalid transactions removed: 0\n",
            "Remaining records : 522601\n"
          ]
        }
      ]
    },
    {
      "cell_type": "code",
      "source": [
        "# FINAL DATA VALIDATION CHECKLIST\n",
        "\n",
        "print(\"Final Quality Checks on Cleaned Dataset\\n\" + \"-\"*50)\n",
        "\n",
        "# Number of rows and columns\n",
        "print(f\"Total rows: {df.shape[0]}\")\n",
        "print(f\"Total columns: {df.shape[1]}\")\n",
        "\n",
        "# Count of missing values\n",
        "print(\"\\nMissing values per column:\")\n",
        "print(df.isnull().sum())\n",
        "\n",
        "# Data types\n",
        "print(\"\\nColumn data types:\")\n",
        "print(df.dtypes)\n",
        "\n",
        "# Unique values per key columns\n",
        "print(\"\\nUnique TransactionNo:\", df['TransactionNo'].nunique())\n",
        "print(\"Unique ProductName:\", df['ProductName'].nunique())\n",
        "print(\"Unique CustomerNo:\", df['CustomerNo'].nunique())\n",
        "print(\"Unique Countries:\", df['Country'].nunique())\n",
        "\n",
        "# Negative or zero prices\n",
        "invalid_price_count = (df['Price'] <= 0).sum()\n",
        "print(f\"\\nInvalid prices (<= 0): {invalid_price_count}\")"
      ],
      "metadata": {
        "colab": {
          "base_uri": "https://localhost:8080/"
        },
        "id": "EtrOeSTR9r7U",
        "outputId": "5c44c49e-a324-49f0-b861-266abf00f130"
      },
      "execution_count": null,
      "outputs": [
        {
          "output_type": "stream",
          "name": "stdout",
          "text": [
            "Final Quality Checks on Cleaned Dataset\n",
            "--------------------------------------------------\n",
            "Total rows: 522601\n",
            "Total columns: 8\n",
            "\n",
            "Missing values per column:\n",
            "TransactionNo    0\n",
            "Date             0\n",
            "ProductNo        0\n",
            "ProductName      0\n",
            "Price            0\n",
            "Quantity         0\n",
            "CustomerNo       0\n",
            "Country          0\n",
            "dtype: int64\n",
            "\n",
            "Column data types:\n",
            "TransactionNo     object\n",
            "Date              object\n",
            "ProductNo         object\n",
            "ProductName       object\n",
            "Price            float64\n",
            "Quantity           int64\n",
            "CustomerNo       float64\n",
            "Country           object\n",
            "dtype: object\n",
            "\n",
            "Unique TransactionNo: 19789\n",
            "Unique ProductName: 3753\n",
            "Unique CustomerNo: 4718\n",
            "Unique Countries: 38\n",
            "\n",
            "Invalid prices (<= 0): 0\n"
          ]
        }
      ]
    },
    {
      "cell_type": "code",
      "source": [
        "from itertools import combinations\n",
        "from collections import defaultdict\n",
        "import pandas as pd\n",
        "\n",
        "# Group products and their quantities by transaction number\n",
        "# Creates a list of (product, quantity) tuples for each transaction\n",
        "grouped = df.groupby('TransactionNo')[['ProductName', 'Quantity']]\\\n",
        "            .apply(lambda x: list(zip(x['ProductName'], x['Quantity'])))\n",
        "\n",
        "# Dictionary to accumulate edge weights using min(quantity1, quantity2)\n",
        "pair_weights = defaultdict(int)\n",
        "\n",
        "# Loop through each transaction and compute all co-purchased product pairs\n",
        "for product_list in grouped:\n",
        "    # Generate all unique unordered pairs of products in the transaction\n",
        "    unique_pairs = combinations(product_list, 2)\n",
        "    for (prod1, q1), (prod2, q2) in unique_pairs:\n",
        "        # Ensure consistent ordering of product pairs (avoid duplicates like A-B and B-A)\n",
        "        a, b = sorted([prod1, prod2])\n",
        "        # Use minimum quantity as edge weight (co-purchase strength)\n",
        "        pair_weights[(a, b)] += min(q1, q2)\n",
        "\n",
        "# Convert the edge dictionary to a DataFrame\n",
        "edges_df = pd.DataFrame(\n",
        "    [(a, b, w) for (a, b), w in pair_weights.items()],\n",
        "    columns=['Source', 'Target', 'Weight']\n",
        ")\n",
        "\n",
        "# Export the edge list to CSV\n",
        "edges_df.to_csv(\"edges.csv\", index=False)\n",
        "print(f\"edges.csv created successfully with {len(edges_df)} edges.\")"
      ],
      "metadata": {
        "colab": {
          "base_uri": "https://localhost:8080/"
        },
        "id": "oqK-Tdom9I-p",
        "outputId": "9b565c48-6fa5-4dde-d0d3-50b84125e7f1"
      },
      "execution_count": null,
      "outputs": [
        {
          "output_type": "stream",
          "name": "stdout",
          "text": [
            "edges.csv created successfully with 3649128 edges.\n"
          ]
        }
      ]
    },
    {
      "cell_type": "code",
      "source": [
        "# Extract all unique product names from the edge list\n",
        "# Combine both Source and Target columns to get a complete set of unique nodes\n",
        "nodes_set = set(edges_df['Source']).union(edges_df['Target'])\n",
        "\n",
        "# Create a DataFrame for Gephi node import\n",
        "nodes_df = pd.DataFrame({'Id': list(nodes_set)})\n",
        "nodes_df['Label'] = nodes_df['Id']    # Optional: label to be displayed in Gephi\n",
        "nodes_df['Type'] = 'Product'          # Optional: node type (useful for bipartite graphs)\n",
        "\n",
        "# Export the nodes DataFrame to CSV\n",
        "nodes_df.to_csv(\"nodes.csv\", index=False)\n",
        "print(f\"nodes.csv created successfully with {len(nodes_df)} nodes.\")"
      ],
      "metadata": {
        "colab": {
          "base_uri": "https://localhost:8080/"
        },
        "id": "L0mWwud09Lbk",
        "outputId": "448b7708-66ca-4535-bf7d-b77e5b5f5ece"
      },
      "execution_count": null,
      "outputs": [
        {
          "output_type": "stream",
          "name": "stdout",
          "text": [
            "nodes.csv created successfully with 3749 nodes.\n"
          ]
        }
      ]
    },
    {
      "cell_type": "code",
      "source": [
        "# Analyze edge weights to understand co-purchase frequency\n",
        "\n",
        "# Compute basic statistics\n",
        "max_weight = edges_df['Weight'].max()\n",
        "min_weight = edges_df['Weight'].min()\n",
        "mean_weight = round(edges_df['Weight'].mean(), 2)\n",
        "median_weight = edges_df['Weight'].median()\n",
        "\n",
        "# Display the results\n",
        "print(\"Edge Weight Statistics:\")\n",
        "print(f\"Max weight:    {max_weight}\")\n",
        "print(f\"Min weight:    {min_weight}\")\n",
        "print(f\"Mean weight:   {mean_weight}\")\n",
        "print(f\"Median weight: {median_weight}\")"
      ],
      "metadata": {
        "colab": {
          "base_uri": "https://localhost:8080/"
        },
        "id": "bj9rT_asUPQ_",
        "outputId": "9d434fc9-ed5f-4774-d8ee-e9cfee134613"
      },
      "execution_count": null,
      "outputs": [
        {
          "output_type": "stream",
          "name": "stdout",
          "text": [
            "Edge Weight Statistics:\n",
            "Max weight:    13460\n",
            "Min weight:    1\n",
            "Mean weight:   20.64\n",
            "Median weight: 6.0\n"
          ]
        }
      ]
    },
    {
      "cell_type": "code",
      "source": [
        "# Identify isolated nodes (nodes with no edges in the network)\n",
        "\n",
        "# Get all node IDs from the node list\n",
        "all_nodes = set(nodes_df['Id'])\n",
        "\n",
        "# Get all nodes that appear in at least one edge (either as source or target)\n",
        "connected_nodes = set(edges_df['Source']).union(edges_df['Target'])\n",
        "\n",
        "# Find nodes that are not part of any edge\n",
        "isolated_nodes = all_nodes - connected_nodes\n",
        "\n",
        "# Print summary statistics\n",
        "print(f\"Total nodes:              {len(all_nodes)}\")\n",
        "print(f\"Connected nodes:          {len(connected_nodes)}\")\n",
        "print(f\"Isolated nodes (no edges): {len(isolated_nodes)}\")\n",
        "\n",
        "# Optionally display a few isolated nodes\n",
        "print(\"Sample isolated nodes:\", list(isolated_nodes)[:10])"
      ],
      "metadata": {
        "colab": {
          "base_uri": "https://localhost:8080/"
        },
        "id": "Akjx36h0-9bT",
        "outputId": "6e0808aa-7d42-4ef7-a290-ce97955400cb"
      },
      "execution_count": null,
      "outputs": [
        {
          "output_type": "stream",
          "name": "stdout",
          "text": [
            "Total nodes:              3749\n",
            "Connected nodes:          3749\n",
            "Isolated nodes (no edges): 0\n",
            "Sample isolated nodes: []\n"
          ]
        }
      ]
    },
    {
      "cell_type": "code",
      "source": [
        "# Filter strong co-purchase edges (Weight ≥ 50)\n",
        "edges_50 = edges_df[edges_df['Weight'] >= 50]\n",
        "\n",
        "# Save the filtered edge list to a CSV file\n",
        "edges_50.to_csv(\"edges_weight50plus.csv\", index=False)\n",
        "\n",
        "# Display basic statistics about the filtered edges\n",
        "print(f\"edges_weight50plus.csv created with {len(edges_50)} edges\")\n",
        "print(f\"Max weight:    {edges_50['Weight'].max()}\")\n",
        "print(f\"Min weight:    {edges_50['Weight'].min()}\")\n",
        "print(f\"Mean weight:   {edges_50['Weight'].mean():.2f}\")\n",
        "print(f\"Median weight: {edges_50['Weight'].median()}\")"
      ],
      "metadata": {
        "colab": {
          "base_uri": "https://localhost:8080/"
        },
        "id": "IS1MvQ8uA218",
        "outputId": "5a48c330-e735-4b6a-a979-caaf86323cf2"
      },
      "execution_count": null,
      "outputs": [
        {
          "output_type": "stream",
          "name": "stdout",
          "text": [
            "edges_weight50plus.csv created with 327745 edges\n",
            "Max weight:    13460\n",
            "Min weight:    50\n",
            "Mean weight:   136.33\n",
            "Median weight: 86.0\n"
          ]
        }
      ]
    },
    {
      "cell_type": "code",
      "source": [
        "# Extract unique nodes from the filtered edge list\n",
        "used_nodes_50 = set(edges_50['Source']).union(edges_50['Target'])\n",
        "\n",
        "# Create node DataFrame compatible with Gephi\n",
        "nodes_50 = pd.DataFrame({'Id': list(used_nodes_50)})\n",
        "nodes_50['Label'] = nodes_50['Id']\n",
        "nodes_50['Type'] = 'Product'\n",
        "\n",
        "# Save to CSV\n",
        "nodes_50.to_csv(\"nodes_weight50plus.csv\", index=False)\n",
        "\n",
        "print(f\"nodes_weight50plus.csv created with {len(nodes_50)} nodes\")"
      ],
      "metadata": {
        "colab": {
          "base_uri": "https://localhost:8080/"
        },
        "id": "KMdvyl7UA5Hh",
        "outputId": "ac0d06cf-97bd-493b-e331-b150fc527d67"
      },
      "execution_count": null,
      "outputs": [
        {
          "output_type": "stream",
          "name": "stdout",
          "text": [
            "nodes_weight50plus.csv created with 2641 nodes\n"
          ]
        }
      ]
    },
    {
      "cell_type": "code",
      "source": [
        "# Prompt the user to confirm file download for filtered network (Weight ≥ 50)\n",
        "confirm = input(\"Do you want to download the node and edge files (Weight ≥ 50)? (yes/no): \").strip().lower()\n",
        "\n",
        "if confirm in ['yes', 'y']:\n",
        "    from google.colab import files\n",
        "    files.download(\"edges_weight50plus.csv\")\n",
        "    files.download(\"nodes_weight50plus.csv\")\n",
        "    print(\"Download started for both files.\")\n",
        "else:\n",
        "    print(\"Download canceled.\")"
      ],
      "metadata": {
        "colab": {
          "base_uri": "https://localhost:8080/",
          "height": 53
        },
        "id": "SLDCL05sCoxY",
        "outputId": "1269aec4-7601-4e22-d8f0-c7f10aa97f03"
      },
      "execution_count": null,
      "outputs": [
        {
          "name": "stdout",
          "output_type": "stream",
          "text": [
            "Do you want to download the node and edge files (Weight ≥ 50)? (yes/no): yes\n"
          ]
        },
        {
          "output_type": "display_data",
          "data": {
            "text/plain": [
              "<IPython.core.display.Javascript object>"
            ],
            "application/javascript": [
              "\n",
              "    async function download(id, filename, size) {\n",
              "      if (!google.colab.kernel.accessAllowed) {\n",
              "        return;\n",
              "      }\n",
              "      const div = document.createElement('div');\n",
              "      const label = document.createElement('label');\n",
              "      label.textContent = `Downloading \"${filename}\": `;\n",
              "      div.appendChild(label);\n",
              "      const progress = document.createElement('progress');\n",
              "      progress.max = size;\n",
              "      div.appendChild(progress);\n",
              "      document.body.appendChild(div);\n",
              "\n",
              "      const buffers = [];\n",
              "      let downloaded = 0;\n",
              "\n",
              "      const channel = await google.colab.kernel.comms.open(id);\n",
              "      // Send a message to notify the kernel that we're ready.\n",
              "      channel.send({})\n",
              "\n",
              "      for await (const message of channel.messages) {\n",
              "        // Send a message to notify the kernel that we're ready.\n",
              "        channel.send({})\n",
              "        if (message.buffers) {\n",
              "          for (const buffer of message.buffers) {\n",
              "            buffers.push(buffer);\n",
              "            downloaded += buffer.byteLength;\n",
              "            progress.value = downloaded;\n",
              "          }\n",
              "        }\n",
              "      }\n",
              "      const blob = new Blob(buffers, {type: 'application/binary'});\n",
              "      const a = document.createElement('a');\n",
              "      a.href = window.URL.createObjectURL(blob);\n",
              "      a.download = filename;\n",
              "      div.appendChild(a);\n",
              "      a.click();\n",
              "      div.remove();\n",
              "    }\n",
              "  "
            ]
          },
          "metadata": {}
        },
        {
          "output_type": "display_data",
          "data": {
            "text/plain": [
              "<IPython.core.display.Javascript object>"
            ],
            "application/javascript": [
              "download(\"download_8b7e14cc-4ca9-4dab-886f-fd64a9799af5\", \"edges_weight50plus.csv\", 19177169)"
            ]
          },
          "metadata": {}
        },
        {
          "output_type": "display_data",
          "data": {
            "text/plain": [
              "<IPython.core.display.Javascript object>"
            ],
            "application/javascript": [
              "\n",
              "    async function download(id, filename, size) {\n",
              "      if (!google.colab.kernel.accessAllowed) {\n",
              "        return;\n",
              "      }\n",
              "      const div = document.createElement('div');\n",
              "      const label = document.createElement('label');\n",
              "      label.textContent = `Downloading \"${filename}\": `;\n",
              "      div.appendChild(label);\n",
              "      const progress = document.createElement('progress');\n",
              "      progress.max = size;\n",
              "      div.appendChild(progress);\n",
              "      document.body.appendChild(div);\n",
              "\n",
              "      const buffers = [];\n",
              "      let downloaded = 0;\n",
              "\n",
              "      const channel = await google.colab.kernel.comms.open(id);\n",
              "      // Send a message to notify the kernel that we're ready.\n",
              "      channel.send({})\n",
              "\n",
              "      for await (const message of channel.messages) {\n",
              "        // Send a message to notify the kernel that we're ready.\n",
              "        channel.send({})\n",
              "        if (message.buffers) {\n",
              "          for (const buffer of message.buffers) {\n",
              "            buffers.push(buffer);\n",
              "            downloaded += buffer.byteLength;\n",
              "            progress.value = downloaded;\n",
              "          }\n",
              "        }\n",
              "      }\n",
              "      const blob = new Blob(buffers, {type: 'application/binary'});\n",
              "      const a = document.createElement('a');\n",
              "      a.href = window.URL.createObjectURL(blob);\n",
              "      a.download = filename;\n",
              "      div.appendChild(a);\n",
              "      a.click();\n",
              "      div.remove();\n",
              "    }\n",
              "  "
            ]
          },
          "metadata": {}
        },
        {
          "output_type": "display_data",
          "data": {
            "text/plain": [
              "<IPython.core.display.Javascript object>"
            ],
            "application/javascript": [
              "download(\"download_8d69cd90-202a-437d-900b-e903c522907f\", \"nodes_weight50plus.csv\", 167098)"
            ]
          },
          "metadata": {}
        },
        {
          "output_type": "stream",
          "name": "stdout",
          "text": [
            "Download started for both files.\n"
          ]
        }
      ]
    }
  ]
}